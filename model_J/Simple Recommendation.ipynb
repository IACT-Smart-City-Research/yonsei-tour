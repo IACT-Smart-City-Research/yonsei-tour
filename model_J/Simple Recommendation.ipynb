{
 "cells": [
  {
   "cell_type": "code",
   "execution_count": 279,
   "metadata": {},
   "outputs": [],
   "source": [
    "import pandas as pd\n",
    "\n",
    "df = pd.read_csv('2018_data_simple.csv', encoding='utf-8')"
   ]
  },
  {
   "cell_type": "code",
   "execution_count": 287,
   "metadata": {},
   "outputs": [],
   "source": [
    "df1 = df[['D_COU','D_GEN','D_AGE','Q11A1']]\n",
    "df2 = df[['D_COU','D_GEN','D_AGE','Q11A2']]\n",
    "df3 = df[['D_COU','D_GEN','D_AGE','Q11A3']]"
   ]
  },
  {
   "cell_type": "code",
   "execution_count": 288,
   "metadata": {},
   "outputs": [],
   "source": [
    "df1.columns = ['COU','GEN','AGE','PLACE']\n",
    "df2.columns = ['COU','GEN','AGE','PLACE']\n",
    "df3.columns = ['COU','GEN','AGE','PLACE']"
   ]
  },
  {
   "cell_type": "code",
   "execution_count": 289,
   "metadata": {},
   "outputs": [],
   "source": [
    "ndf = pd.concat([df1, df2, df3])"
   ]
  },
  {
   "cell_type": "code",
   "execution_count": 291,
   "metadata": {},
   "outputs": [],
   "source": [
    "ndf = ndf[ndf['PLACE'] != ' ']\n",
    "ndf['PLACE'] = ndf['PLACE'].astype(int)\n",
    "ndf = ndf[ndf['COU'].isin([1,2,5,8])]\n",
    "ndf = ndf.reset_index()"
   ]
  },
  {
   "cell_type": "code",
   "execution_count": 274,
   "metadata": {},
   "outputs": [
    {
     "data": {
      "text/html": [
       "<div>\n",
       "<style scoped>\n",
       "    .dataframe tbody tr th:only-of-type {\n",
       "        vertical-align: middle;\n",
       "    }\n",
       "\n",
       "    .dataframe tbody tr th {\n",
       "        vertical-align: top;\n",
       "    }\n",
       "\n",
       "    .dataframe thead th {\n",
       "        text-align: right;\n",
       "    }\n",
       "</style>\n",
       "<table border=\"1\" class=\"dataframe\">\n",
       "  <thead>\n",
       "    <tr style=\"text-align: right;\">\n",
       "      <th></th>\n",
       "      <th>COU</th>\n",
       "      <th>GEN</th>\n",
       "      <th>AGE</th>\n",
       "      <th>PLACE</th>\n",
       "    </tr>\n",
       "  </thead>\n",
       "  <tbody>\n",
       "    <tr>\n",
       "      <th>0</th>\n",
       "      <td>2</td>\n",
       "      <td>1</td>\n",
       "      <td>5</td>\n",
       "      <td>1</td>\n",
       "    </tr>\n",
       "    <tr>\n",
       "      <th>1</th>\n",
       "      <td>2</td>\n",
       "      <td>2</td>\n",
       "      <td>2</td>\n",
       "      <td>1</td>\n",
       "    </tr>\n",
       "    <tr>\n",
       "      <th>2</th>\n",
       "      <td>2</td>\n",
       "      <td>2</td>\n",
       "      <td>2</td>\n",
       "      <td>1</td>\n",
       "    </tr>\n",
       "    <tr>\n",
       "      <th>3</th>\n",
       "      <td>2</td>\n",
       "      <td>2</td>\n",
       "      <td>3</td>\n",
       "      <td>1</td>\n",
       "    </tr>\n",
       "    <tr>\n",
       "      <th>4</th>\n",
       "      <td>5</td>\n",
       "      <td>1</td>\n",
       "      <td>6</td>\n",
       "      <td>1</td>\n",
       "    </tr>\n",
       "  </tbody>\n",
       "</table>\n",
       "</div>"
      ],
      "text/plain": [
       "   COU  GEN  AGE PLACE\n",
       "0    2    1    5     1\n",
       "1    2    2    2     1\n",
       "2    2    2    2     1\n",
       "3    2    2    3     1\n",
       "4    5    1    6     1"
      ]
     },
     "execution_count": 274,
     "metadata": {},
     "output_type": "execute_result"
    }
   ],
   "source": [
    "ndf = ndf[['COU','GEN','AGE','PLACE']]\n",
    "ndf.head()"
   ]
  },
  {
   "cell_type": "code",
   "execution_count": 306,
   "metadata": {},
   "outputs": [],
   "source": [
    "x = ndf.to_dict()"
   ]
  },
  {
   "cell_type": "code",
   "execution_count": 307,
   "metadata": {},
   "outputs": [],
   "source": [
    "g = []\n",
    "for a in ndf['COU'].unique():\n",
    "    for b in ndf['GEN'].unique():\n",
    "        for c in ndf['AGE'].unique():\n",
    "            g.append((a,b,c))"
   ]
  },
  {
   "cell_type": "code",
   "execution_count": 308,
   "metadata": {},
   "outputs": [],
   "source": [
    "for t in g:\n",
    "    FLAG = True\n",
    "    for i in range(len(x['COU'])):\n",
    "        if(x['COU'][i] == t[0] and x['GEN'][i] == t[1] and x['AGE'][i] == t[2]):\n",
    "            FLAG = False\n",
    "            break\n",
    "    if(FLAG):\n",
    "        print(t)"
   ]
  },
  {
   "cell_type": "code",
   "execution_count": 309,
   "metadata": {},
   "outputs": [],
   "source": [
    "place_name = pd.read_csv('Book1.csv', header = None).to_dict()[0]"
   ]
  },
  {
   "cell_type": "code",
   "execution_count": 346,
   "metadata": {},
   "outputs": [],
   "source": [
    "from collections import Counter\n",
    "def recommend(a,b,c):\n",
    "    try:\n",
    "        d = [x['PLACE'][i] for i in range(len(x['COU']))\n",
    "            if x['COU'][i] == a and x['GEN'][i] == b and x['AGE'][i] == c]\n",
    "        c_d = Counter(d).most_common(3)\n",
    "        print(\"당신과 유사한 사람들이 좋아하는 관광지\")\n",
    "        r\n",
    "        for k in c_d:\n",
    "            print(place_name[k[0]-1])\n",
    "    except:\n",
    "        print(\"잘 모르겠어요!\")"
   ]
  },
  {
   "cell_type": "code",
   "execution_count": 347,
   "metadata": {},
   "outputs": [
    {
     "name": "stdout",
     "output_type": "stream",
     "text": [
      "당신과 유사한 사람들이 좋아하는 관광지\n",
      "명동/ 남대문/ 북창\n",
      "신촌/ 홍대주변\n",
      "동대문 패션타운\n"
     ]
    }
   ],
   "source": [
    "'''\n",
    "나라 (중국 : 1, 일본 : 2, 대만 : 5, 미국 : 8)\n",
    "성별 (남자 : 1, 여자 : 2)\n",
    "연령 (15~20 : 1, 21~30 : 2, 31~40 : 3, 41~50 : 4, 51~60 : 5, 61~ : 6)\n",
    "'''\n",
    "\n",
    "recommend(1,1,1)"
   ]
  },
  {
   "cell_type": "code",
   "execution_count": null,
   "metadata": {},
   "outputs": [],
   "source": []
  }
 ],
 "metadata": {
  "kernelspec": {
   "display_name": "Python 3",
   "language": "python",
   "name": "python3"
  },
  "language_info": {
   "codemirror_mode": {
    "name": "ipython",
    "version": 3
   },
   "file_extension": ".py",
   "mimetype": "text/x-python",
   "name": "python",
   "nbconvert_exporter": "python",
   "pygments_lexer": "ipython3",
   "version": "3.7.4"
  }
 },
 "nbformat": 4,
 "nbformat_minor": 2
}
